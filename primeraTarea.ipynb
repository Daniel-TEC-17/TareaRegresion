{
 "cells": [
  {
   "cell_type": "code",
   "execution_count": 14,
   "id": "c91e2707",
   "metadata": {},
   "outputs": [
    {
     "name": "stdout",
     "output_type": "stream",
     "text": [
      "First 5 records:    Hours Studied  Previous Scores Extracurricular Activities  Sleep Hours  \\\n",
      "0              7               99                        Yes            9   \n",
      "1              4               82                         No            4   \n",
      "2              8               51                        Yes            7   \n",
      "3              5               52                        Yes            5   \n",
      "4              7               75                         No            8   \n",
      "\n",
      "   Sample Question Papers Practiced  Performance Index  \n",
      "0                                 1               91.0  \n",
      "1                                 2               65.0  \n",
      "2                                 2               45.0  \n",
      "3                                 2               36.0  \n",
      "4                                 5               66.0  \n"
     ]
    }
   ],
   "source": [
    "#Ejecutar en terminal: pip install -r requirements.txt\n",
    "\n",
    "import kagglehub\n",
    "from kagglehub import KaggleDatasetAdapter\n",
    "import matplotlib.pyplot as plt\n",
    "import seaborn as sns\n",
    "import pandas as pd\n",
    "import numpy as np\n",
    "\n",
    "\n",
    "# Set the path to the file you'd like to load\n",
    "file_path = \"./Student_Performance.csv\"\n",
    "\n",
    "# Load the latest version\n",
    "df = kagglehub.dataset_load(\n",
    "  KaggleDatasetAdapter.PANDAS,\n",
    "  \"nikhil7280/student-performance-multiple-linear-regression\",\n",
    "  file_path,\n",
    "  # Provide any additional arguments like \n",
    "  # sql_query or pandas_kwargs. See the \n",
    "  # documenation for more information:\n",
    "  # https://github.com/Kaggle/kagglehub/blob/main/README.md#kaggledatasetadapterpandas\n",
    ")\n",
    "\n",
    "print(\"First 5 records:\", df.head())"
   ]
  },
  {
   "cell_type": "code",
   "execution_count": null,
   "id": "5ace09b2",
   "metadata": {},
   "outputs": [],
   "source": [
    "# Información del DataFrame, se imprime cantidad de filas, columnas y tipos de datos \n",
    "print(\"================================= Información del Dataframe(filas,columnas, tipos de datos) ==============================\")\n",
    "print(df.info())\n",
    "\n",
    "print(\"\\n\")\n",
    "\n",
    "# Estadísticas descriptivas, desviación estándar, media, min, max\n",
    "print(\"================================= Estadisticas Descriptivas(std, media, min, max) ==============================\")\n",
    "print(df.describe())"
   ]
  },
  {
   "cell_type": "markdown",
   "id": "a076c3fa",
   "metadata": {},
   "source": [
    "---\n",
    "### Analisis de caracteristicas \n",
    "\n",
    "Se busca hacer un Analisis exploratorio de los datos buscando outliers, para esto necesitamos conocer \n"
   ]
  },
  {
   "cell_type": "code",
   "execution_count": null,
   "id": "3bc7d566",
   "metadata": {},
   "outputs": [],
   "source": [
    "# Histograma de cada variable\n",
    "df.hist(figsize=(12,8))\n",
    "plt.show()\n",
    "\n",
    "# Mapa de calor de correlaciones\n",
    "\n",
    "corr = df.select_dtypes(include=[\"number\"]).corr()\n",
    "sns.heatmap(corr, annot=True, cmap=\"coolwarm\")\n",
    "plt.show()"
   ]
  },
  {
   "cell_type": "markdown",
   "id": "7fa7d6d7",
   "metadata": {},
   "source": [
    "### Estandarización de Variables\n",
    "---\n",
    "Se procederá a estandarizar los datos para regularizar las variables, esto es importante ya que difieren mucho unas de otras, por ejemplo, en el caso de notas previas los valores van hasta el 100 y horas de sueño hasta el 9, al realizar descenso del gradiente con variables así, la más grande va a dominar la actualización de los pesos, por lo tanto el gradiente no converge bien.\n",
    "\n",
    "---"
   ]
  },
  {
   "cell_type": "markdown",
   "id": "e6a5a4e6",
   "metadata": {},
   "source": [
    "# Referencias\n",
    "\n",
    "Matplotlib documentation — Matplotlib 3.10.6 documentation. (2025). Matplotlib.org. https://matplotlib.org/stable/index.html\n",
    "\n",
    "‌\n",
    "\n",
    "\n",
    "‌"
   ]
  }
 ],
 "metadata": {
  "kernelspec": {
   "display_name": "Python 3",
   "language": "python",
   "name": "python3"
  },
  "language_info": {
   "codemirror_mode": {
    "name": "ipython",
    "version": 3
   },
   "file_extension": ".py",
   "mimetype": "text/x-python",
   "name": "python",
   "nbconvert_exporter": "python",
   "pygments_lexer": "ipython3",
   "version": "3.11.3"
  }
 },
 "nbformat": 4,
 "nbformat_minor": 5
}
